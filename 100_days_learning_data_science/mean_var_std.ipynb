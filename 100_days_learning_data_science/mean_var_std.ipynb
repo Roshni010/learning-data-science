{
 "cells": [
  {
   "cell_type": "code",
   "execution_count": 1,
   "id": "faf49c2c",
   "metadata": {},
   "outputs": [],
   "source": [
    "import numpy as np  \n",
    "    "
   ]
  },
  {
   "cell_type": "code",
   "execution_count": 7,
   "id": "d11c40e4",
   "metadata": {},
   "outputs": [],
   "source": [
    "def calculate(numbers):\n",
    "    if len(numbers)<9:\n",
    "        raise ValueError(\"List cannot contain the value less than 9\")\n",
    "    \n",
    "    matrix=np.array(numbers).reshape(3,3)\n",
    "    result={\n",
    "        #vertical wala each row ko mean ani horizontal wala each row ko mean esto tw list mae tw hunxani\n",
    "       'mean': [list(matrix.mean(axis=0)), list(matrix.mean(axis=1)), matrix.mean()],\n",
    "        'variance': [list(matrix.var(axis=0)), list(matrix.var(axis=1)), matrix.var()],\n",
    "        'standard deviation': [list(matrix.std(axis=0)), list(matrix.std(axis=1)), matrix.std()],\n",
    "        'max': [list(matrix.max(axis=0)), list(matrix.max(axis=1)), matrix.max()],\n",
    "        'min': [list(matrix.min(axis=0)), list(matrix.min(axis=1)), matrix.min()],\n",
    "        'sum': [list(matrix.sum(axis=0)), list(matrix.sum(axis=1)), matrix.sum()]\n",
    "    }\n",
    "    return result;"
   ]
  },
  {
   "cell_type": "code",
   "execution_count": 8,
   "id": "6097242f",
   "metadata": {},
   "outputs": [
    {
     "name": "stdout",
     "output_type": "stream",
     "text": [
      "{'mean': [[3.0, 4.0, 5.0], [1.0, 4.0, 7.0], 4.0], 'variance': [[6.0, 6.0, 6.0], [0.6666666666666666, 0.6666666666666666, 0.6666666666666666], 6.666666666666667], 'standard deviation': [[2.449489742783178, 2.449489742783178, 2.449489742783178], [0.816496580927726, 0.816496580927726, 0.816496580927726], 2.581988897471611], 'max': [[6, 7, 8], [2, 5, 8], 8], 'min': [[0, 1, 2], [0, 3, 6], 0], 'sum': [[9, 12, 15], [3, 12, 21], 36]}\n"
     ]
    }
   ],
   "source": [
    "result = calculate([0, 1, 2, 3, 4, 5, 6, 7, 8])\n",
    "print(result)"
   ]
  },
  {
   "cell_type": "code",
   "execution_count": null,
   "id": "28edc370",
   "metadata": {},
   "outputs": [],
   "source": []
  }
 ],
 "metadata": {
  "kernelspec": {
   "display_name": "Python 3 (ipykernel)",
   "language": "python",
   "name": "python3"
  },
  "language_info": {
   "codemirror_mode": {
    "name": "ipython",
    "version": 3
   },
   "file_extension": ".py",
   "mimetype": "text/x-python",
   "name": "python",
   "nbconvert_exporter": "python",
   "pygments_lexer": "ipython3",
   "version": "3.10.9"
  }
 },
 "nbformat": 4,
 "nbformat_minor": 5
}
